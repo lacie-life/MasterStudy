{
 "cells": [
  {
   "cell_type": "code",
   "execution_count": 1,
   "id": "2320a6cc",
   "metadata": {},
   "outputs": [],
   "source": [
    "import os"
   ]
  },
  {
   "cell_type": "code",
   "execution_count": 8,
   "id": "18a0dada",
   "metadata": {},
   "outputs": [],
   "source": [
    "data_dir = \"/home/lacie/Github/MasterStudy/ComputerVision/data/Simplycity/\""
   ]
  },
  {
   "cell_type": "code",
   "execution_count": 9,
   "id": "0285c207",
   "metadata": {},
   "outputs": [],
   "source": [
    "impath= os.listdir(data_dir)"
   ]
  },
  {
   "cell_type": "code",
   "execution_count": 10,
   "id": "10084632",
   "metadata": {},
   "outputs": [
    {
     "data": {
      "text/plain": [
       "['6', '0', '7', '1', '4', '5', '3', '2', '9', '8']"
      ]
     },
     "execution_count": 10,
     "metadata": {},
     "output_type": "execute_result"
    }
   ],
   "source": [
    "impath"
   ]
  },
  {
   "cell_type": "code",
   "execution_count": 12,
   "id": "79e96ce6",
   "metadata": {},
   "outputs": [
    {
     "name": "stdout",
     "output_type": "stream",
     "text": [
      "Collecting opencv-python\n",
      "  Using cached opencv_python-4.5.5.64-cp36-abi3-manylinux_2_17_x86_64.manylinux2014_x86_64.whl (60.5 MB)\n",
      "Requirement already satisfied: numpy>=1.19.3 in /home/lacie/anaconda3/lib/python3.9/site-packages (from opencv-python) (1.20.3)\n",
      "Installing collected packages: opencv-python\n",
      "Successfully installed opencv-python-4.5.5.64\n",
      "Collecting opencv-contrib-python\n",
      "  Downloading opencv_contrib_python-4.5.5.64-cp36-abi3-manylinux_2_17_x86_64.manylinux2014_x86_64.whl (66.7 MB)\n",
      "\u001b[K     |████████████████████████████████| 66.7 MB 2.4 MB/s eta 0:00:01     |██████▋                         | 13.8 MB 4.7 MB/s eta 0:00:12\n",
      "\u001b[?25hRequirement already satisfied: numpy>=1.19.3 in /home/lacie/anaconda3/lib/python3.9/site-packages (from opencv-contrib-python) (1.20.3)\n",
      "Installing collected packages: opencv-contrib-python\n",
      "Successfully installed opencv-contrib-python-4.5.5.64\n"
     ]
    }
   ],
   "source": [
    "!pip install opencv-python\n",
    "!pip install opencv-contrib-python"
   ]
  },
  {
   "cell_type": "code",
   "execution_count": null,
   "id": "6e30933f",
   "metadata": {},
   "outputs": [],
   "source": []
  },
  {
   "cell_type": "code",
   "execution_count": null,
   "id": "637e522d",
   "metadata": {},
   "outputs": [],
   "source": []
  },
  {
   "cell_type": "code",
   "execution_count": null,
   "id": "1b2cce4f",
   "metadata": {},
   "outputs": [],
   "source": []
  }
 ],
 "metadata": {
  "kernelspec": {
   "display_name": "Python 3 (ipykernel)",
   "language": "python",
   "name": "python3"
  },
  "language_info": {
   "codemirror_mode": {
    "name": "ipython",
    "version": 3
   },
   "file_extension": ".py",
   "mimetype": "text/x-python",
   "name": "python",
   "nbconvert_exporter": "python",
   "pygments_lexer": "ipython3",
   "version": "3.9.7"
  }
 },
 "nbformat": 4,
 "nbformat_minor": 5
}
