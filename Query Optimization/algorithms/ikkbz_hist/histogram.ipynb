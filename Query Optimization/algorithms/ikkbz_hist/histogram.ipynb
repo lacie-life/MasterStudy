{
 "cells": [
  {
   "cell_type": "code",
   "execution_count": 1,
   "metadata": {},
   "outputs": [],
   "source": [
    "from IPython.display import display, Math\n",
    "from qoalgo.histogram import Histogram, approx_greater_constant_verbose, approx_join_verbose, \\\n",
    "    approx_equals_constant_verbose"
   ]
  },
  {
   "cell_type": "markdown",
   "metadata": {
    "pycharm": {
     "name": "#%% md\n"
    }
   },
   "source": [
    "# Histograms\n",
    "\n",
    "Allows you to approximate the selectivity using a histogram for following selections:\n",
    "\n",
    "- $A = c$\n",
    "- $A > c$\n",
    "- $A_1 = A_2$\n",
    "\n",
    "## Example for $A=c$"
   ]
  },
  {
   "cell_type": "code",
   "execution_count": 2,
   "metadata": {
    "pycharm": {
     "name": "#%%\n"
    }
   },
   "outputs": [
    {
     "data": {
      "text/latex": [
       "$\\displaystyle \\frac{ 4 }{ 1 + 3 + 4 + 2 + 0 } = 0.4000$"
      ],
      "text/plain": [
       "<IPython.core.display.Math object>"
      ]
     },
     "metadata": {},
     "output_type": "display_data"
    }
   ],
   "source": [
    "hist = Histogram()\n",
    "hist.add_interval(0, 20, 1)\\\n",
    "    .add_interval(20, 40, 3)\\\n",
    "    .add_interval(40, 60, 4)\\\n",
    "    .add_interval(60, 80, 2)\\\n",
    "    .add_interval(80, 100, 0)\n",
    "\n",
    "tex, _ = approx_equals_constant_verbose(hist, 50)\n",
    "display(Math(tex))"
   ]
  },
  {
   "cell_type": "markdown",
   "metadata": {
    "pycharm": {
     "name": "#%% md\n"
    }
   },
   "source": [
    "## Exercise 12.2:"
   ]
  },
  {
   "cell_type": "code",
   "execution_count": 3,
   "metadata": {
    "pycharm": {
     "name": "#%%\n"
    }
   },
   "outputs": [
    {
     "data": {
      "text/latex": [
       "$\\displaystyle \\frac{ \\frac{ 60 - 54 }{ 60 - 40 } \\cdot 4 + 2 + 0 }{ 1 + 3 + 4 + 2 + 0 } = 0.3200$"
      ],
      "text/plain": [
       "<IPython.core.display.Math object>"
      ]
     },
     "metadata": {},
     "output_type": "display_data"
    }
   ],
   "source": [
    "hist = Histogram()\n",
    "hist.add_interval(0, 20, 1)\\\n",
    "    .add_interval(20, 40, 3)\\\n",
    "    .add_interval(40, 60, 4)\\\n",
    "    .add_interval(60, 80, 2)\\\n",
    "    .add_interval(80, 100, 0)\n",
    "\n",
    "tex, _ = approx_greater_constant_verbose(hist, 54)\n",
    "display(Math(tex))"
   ]
  },
  {
   "cell_type": "markdown",
   "metadata": {
    "pycharm": {
     "name": "#%% md\n"
    }
   },
   "source": [
    "so we get a selecitivy of approx. 0.32 having 10 elements this leads to $0.32 \\cdot 10 = 3.2$ elements.\n",
    "\n",
    "\n",
    "## Exercise 12.3"
   ]
  },
  {
   "cell_type": "code",
   "execution_count": 4,
   "metadata": {
    "pycharm": {
     "name": "#%%\n"
    }
   },
   "outputs": [
    {
     "data": {
      "text/latex": [
       "$\\displaystyle \\frac{ \\frac{ 10 }{ 20 } \\cdot 1 \\cdot \\frac{ 10 }{ 10 } \\cdot 2 + \\frac{ 10 }{ 20 } \\cdot 1 \\cdot \\frac{ 10 }{ 10 } \\cdot 4 + \\frac{ 0 }{ 20 } \\cdot 1 \\cdot \\frac{ 0 }{ 20 } \\cdot 1 + \\frac{ 0 }{ 20 } \\cdot 3 \\cdot \\frac{ 0 }{ 10 } \\cdot 4 + \\frac{ 20 }{ 20 } \\cdot 3 \\cdot \\frac{ 20 }{ 20 } \\cdot 1 + \\frac{ 0 }{ 20 } \\cdot 3 \\cdot \\frac{ 0 }{ 10 } \\cdot 6 + \\frac{ 0 }{ 20 } \\cdot 4 \\cdot \\frac{ 0 }{ 20 } \\cdot 1 + \\frac{ 10 }{ 20 } \\cdot 4 \\cdot \\frac{ 10 }{ 10 } \\cdot 6 + \\frac{ 10 }{ 20 } \\cdot 4 \\cdot \\frac{ 10 }{ 50 } \\cdot 4 + \\frac{ 20 }{ 20 } \\cdot 2 \\cdot \\frac{ 20 }{ 50 } \\cdot 4 + \\frac{ 20 }{ 20 } \\cdot 0 \\cdot \\frac{ 20 }{ 50 } \\cdot 4 }{ \\left( 1 + 3 + 4 + 2 + 0 \\right) \\cdot \\left( 2 + 4 + 1 + 6 + 4 \\right) }  = 0.1341$"
      ],
      "text/plain": [
       "<IPython.core.display.Math object>"
      ]
     },
     "metadata": {},
     "output_type": "display_data"
    }
   ],
   "source": [
    "hist_r = Histogram()\n",
    "hist_r.add_interval(0, 20, 1)\\\n",
    "    .add_interval(20, 40, 3)\\\n",
    "    .add_interval(40, 60, 4)\\\n",
    "    .add_interval(60, 80, 2)\\\n",
    "    .add_interval(80, 100, 0)\n",
    "\n",
    "hist_s = Histogram()\n",
    "hist_s.add_interval(0, 10, 2)\\\n",
    "    .add_interval(10, 20, 4)\\\n",
    "    .add_interval(20, 40, 1)\\\n",
    "    .add_interval(40, 50, 6)\\\n",
    "    .add_interval(50, 100, 4)\n",
    "\n",
    "tex, _ = approx_join_verbose(hist_r, hist_s)\n",
    "display(Math(tex))"
   ]
  },
  {
   "cell_type": "markdown",
   "metadata": {
    "pycharm": {
     "name": "#%% md\n"
    }
   },
   "source": [
    "Selectivity is 0.13. Thus we get approx. $0.1341 \\cdot 170 \\approx 22.8$ elements."
   ]
  }
 ],
 "metadata": {
  "kernelspec": {
   "display_name": "Python 3",
   "language": "python",
   "name": "python3"
  },
  "language_info": {
   "codemirror_mode": {
    "name": "ipython",
    "version": 3
   },
   "file_extension": ".py",
   "mimetype": "text/x-python",
   "name": "python",
   "nbconvert_exporter": "python",
   "pygments_lexer": "ipython3",
   "version": "3.9.1+"
  }
 },
 "nbformat": 4,
 "nbformat_minor": 1
}
